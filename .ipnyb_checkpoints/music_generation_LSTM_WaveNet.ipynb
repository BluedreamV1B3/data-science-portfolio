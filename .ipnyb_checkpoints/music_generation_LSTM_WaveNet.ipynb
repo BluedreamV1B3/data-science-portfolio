{
 "cells": [
  {
   "cell_type": "markdown",
   "metadata": {},
   "source": [
    "* Libraries\n",
    "\n",
    "* Read In Data\n",
    "\n",
    "* Data Preparation\n",
    "\n",
    "* Modeling\n",
    "\n",
    "    * LSTM\n",
    "\n",
    "    * WaveNet\n",
    "\n",
    "* Generate New Chorale"
   ]
  },
  {
   "cell_type": "markdown",
   "metadata": {},
   "source": [
    "## Library"
   ]
  },
  {
   "cell_type": "code",
   "execution_count": 2,
   "metadata": {},
   "outputs": [],
   "source": [
    "from pathlib import Path\n",
    "import pandas as pd\n",
    "import numpy as np\n",
    "import random\n",
    "\n",
    "import tensorflow as tf\n",
    "\n",
    "import matplotlib.pyplot as plt\n",
    "\n",
    "plt.rc('font', size=14)\n",
    "plt.rc('axes', labelsize=14, titlesize=14)\n",
    "plt.rc('legend', fontsize=14)\n",
    "plt.rc('xtick', labelsize=10)\n",
    "plt.rc('ytick', labelsize=10)"
   ]
  },
  {
   "cell_type": "markdown",
   "metadata": {},
   "source": [
    "## Read In Data"
   ]
  },
  {
   "cell_type": "markdown",
   "metadata": {},
   "source": [
    "Downloads the Bach chorales dataset and unzips it."
   ]
  },
  {
   "cell_type": "code",
   "execution_count": 3,
   "metadata": {},
   "outputs": [
    {
     "data": {
      "text/plain": [
       "'.\\\\datasets\\\\data_bach_chorales.tgz'"
      ]
     },
     "execution_count": 3,
     "metadata": {},
     "output_type": "execute_result"
    }
   ],
   "source": [
    "tf.keras.utils.get_file(\n",
    "    \"data_bach_chorales.tgz\",\n",
    "    \"https://github.com/ageron/data/raw/main/jsb_chorales.tgz\",\n",
    "    cache_dir=\".\",\n",
    "    extract=True)"
   ]
  },
  {
   "cell_type": "code",
   "execution_count": 4,
   "metadata": {},
   "outputs": [],
   "source": [
    "path = Path(\"datasets/data_bach_chorales\")\n",
    "train = sorted(path .glob(\"train/chorale_*.csv\"))\n",
    "validation = sorted(path .glob(\"valid/chorale_*.csv\"))\n",
    "test = sorted(path .glob(\"test/chorale_*.csv\"))\n",
    "\n",
    "\n",
    "def load_data(filepaths):\n",
    "    return [pd.read_csv(file).values.tolist() for file in filepaths]\n",
    "\n",
    "train = load_data(train)\n",
    "validation = load_data(validation)\n",
    "test = load_data(test)"
   ]
  },
  {
   "cell_type": "markdown",
   "metadata": {},
   "source": [
    "A separate test set is unnecessary for this task because I'll evaluate the model's performance by simply listening to the music it generates. Consequently, I'll merge the test set with the training data."
   ]
  },
  {
   "cell_type": "code",
   "execution_count": 5,
   "metadata": {},
   "outputs": [],
   "source": [
    "train = train + test"
   ]
  },
  {
   "cell_type": "markdown",
   "metadata": {},
   "source": [
    "A typical chorale's length ranges from 100 to 640 time steps. Each time step consists of four integers, where each integer is associated with a piano note index. The value 0 represents the absence of a played note. Here's an illustration of what a chorale, drawn from the training set, might resemble:"
   ]
  },
  {
   "cell_type": "code",
   "execution_count": 6,
   "metadata": {},
   "outputs": [
    {
     "data": {
      "text/plain": [
       "[[71, 66, 63, 59],\n",
       " [71, 66, 63, 59],\n",
       " [71, 66, 63, 57],\n",
       " [71, 66, 63, 57],\n",
       " [71, 67, 64, 55],\n",
       " [71, 67, 64, 55],\n",
       " [71, 67, 64, 52],\n",
       " [71, 67, 64, 52],\n",
       " [69, 64, 57, 49],\n",
       " [69, 64, 57, 49],\n",
       " [67, 64, 57, 49],\n",
       " [67, 64, 57, 49],\n",
       " [66, 62, 57, 50],\n",
       " [66, 62, 57, 50],\n",
       " [66, 62, 57, 50],\n",
       " [66, 62, 57, 50],\n",
       " [71, 67, 62, 47],\n",
       " [71, 67, 62, 47],\n",
       " [71, 67, 62, 43],\n",
       " [71, 67, 62, 43],\n",
       " [69, 66, 62, 50],\n",
       " [69, 66, 62, 50],\n",
       " [67, 66, 62, 50],\n",
       " [67, 66, 62, 50],\n",
       " [66, 66, 60, 51],\n",
       " [66, 66, 60, 51],\n",
       " [66, 66, 59, 51],\n",
       " [66, 66, 59, 51],\n",
       " [67, 64, 59, 52],\n",
       " [67, 64, 59, 52],\n",
       " [67, 64, 59, 52],\n",
       " [67, 64, 59, 52],\n",
       " [71, 68, 64, 52],\n",
       " [71, 68, 64, 52],\n",
       " [71, 68, 64, 50],\n",
       " [71, 68, 64, 50],\n",
       " [71, 64, 64, 48],\n",
       " [71, 64, 64, 48],\n",
       " [71, 64, 64, 48],\n",
       " [71, 64, 64, 48],\n",
       " [69, 64, 57, 49],\n",
       " [69, 64, 57, 49],\n",
       " [67, 64, 57, 49],\n",
       " [67, 64, 57, 49],\n",
       " [66, 64, 57, 50],\n",
       " [66, 64, 57, 50],\n",
       " [66, 62, 57, 50],\n",
       " [66, 62, 57, 50],\n",
       " [71, 62, 53, 44],\n",
       " [71, 62, 53, 44],\n",
       " [71, 62, 53, 44],\n",
       " [71, 62, 53, 44],\n",
       " [69, 60, 52, 45],\n",
       " [69, 60, 52, 45],\n",
       " [67, 60, 52, 45],\n",
       " [67, 60, 52, 45],\n",
       " [66, 60, 54, 39],\n",
       " [66, 60, 54, 39],\n",
       " [66, 59, 54, 39],\n",
       " [66, 59, 54, 39],\n",
       " [67, 59, 52, 40],\n",
       " [67, 59, 52, 40],\n",
       " [67, 59, 52, 40],\n",
       " [67, 59, 52, 40],\n",
       " [71, 67, 59, 52],\n",
       " [71, 67, 59, 52],\n",
       " [71, 67, 59, 52],\n",
       " [71, 67, 59, 52],\n",
       " [73, 67, 57, 45],\n",
       " [73, 67, 57, 45],\n",
       " [73, 67, 57, 45],\n",
       " [73, 67, 57, 45],\n",
       " [75, 66, 59, 57],\n",
       " [75, 66, 59, 57],\n",
       " [75, 66, 59, 57],\n",
       " [75, 66, 59, 57],\n",
       " [76, 64, 59, 56],\n",
       " [76, 64, 59, 56],\n",
       " [76, 64, 59, 56],\n",
       " [76, 64, 59, 56],\n",
       " [71, 64, 59, 55],\n",
       " [71, 64, 59, 55],\n",
       " [73, 64, 59, 55],\n",
       " [73, 64, 59, 55],\n",
       " [74, 66, 59, 54],\n",
       " [74, 66, 59, 54],\n",
       " [74, 66, 59, 52],\n",
       " [74, 66, 59, 52],\n",
       " [73, 66, 58, 54],\n",
       " [73, 66, 58, 54],\n",
       " [73, 66, 64, 54],\n",
       " [73, 66, 64, 54],\n",
       " [71, 66, 62, 47],\n",
       " [71, 66, 62, 47],\n",
       " [71, 66, 62, 47],\n",
       " [71, 66, 62, 47],\n",
       " [73, 66, 61, 46],\n",
       " [73, 66, 61, 46],\n",
       " [73, 66, 61, 46],\n",
       " [73, 66, 61, 46],\n",
       " [74, 66, 61, 47],\n",
       " [74, 66, 61, 47],\n",
       " [74, 66, 59, 47],\n",
       " [74, 66, 59, 47],\n",
       " [73, 66, 59, 54],\n",
       " [73, 66, 59, 54],\n",
       " [73, 66, 57, 54],\n",
       " [73, 66, 57, 54],\n",
       " [71, 66, 59, 55],\n",
       " [71, 66, 59, 55],\n",
       " [71, 62, 59, 54],\n",
       " [71, 62, 59, 54],\n",
       " [71, 67, 59, 52],\n",
       " [71, 67, 59, 52],\n",
       " [71, 66, 59, 50],\n",
       " [71, 66, 59, 50],\n",
       " [69, 64, 60, 48],\n",
       " [69, 64, 60, 48],\n",
       " [67, 64, 59, 48],\n",
       " [67, 64, 59, 48],\n",
       " [66, 62, 57, 50],\n",
       " [66, 62, 57, 50],\n",
       " [66, 60, 57, 50],\n",
       " [66, 60, 57, 50],\n",
       " [67, 59, 55, 43],\n",
       " [67, 59, 55, 43],\n",
       " [67, 59, 55, 43],\n",
       " [67, 59, 55, 43],\n",
       " [69, 64, 55, 49],\n",
       " [69, 64, 55, 49],\n",
       " [69, 64, 55, 49],\n",
       " [69, 64, 55, 49],\n",
       " [69, 62, 54, 50],\n",
       " [69, 62, 54, 50],\n",
       " [69, 62, 54, 50],\n",
       " [69, 62, 54, 50],\n",
       " [71, 62, 55, 43],\n",
       " [71, 62, 55, 43],\n",
       " [71, 62, 54, 43],\n",
       " [71, 62, 54, 43],\n",
       " [69, 61, 52, 45],\n",
       " [69, 61, 52, 45],\n",
       " [67, 61, 52, 45],\n",
       " [67, 61, 52, 45],\n",
       " [66, 63, 59, 47],\n",
       " [66, 63, 59, 47],\n",
       " [66, 63, 59, 47],\n",
       " [66, 63, 59, 47],\n",
       " [67, 64, 59, 40],\n",
       " [67, 64, 59, 40],\n",
       " [67, 64, 59, 42],\n",
       " [67, 64, 59, 42],\n",
       " [67, 64, 59, 43],\n",
       " [67, 64, 59, 43],\n",
       " [67, 64, 59, 45],\n",
       " [67, 64, 59, 45],\n",
       " [66, 64, 59, 47],\n",
       " [66, 64, 59, 47],\n",
       " [66, 62, 59, 47],\n",
       " [66, 62, 59, 47],\n",
       " [73, 66, 61, 46],\n",
       " [73, 66, 61, 46],\n",
       " [73, 66, 61, 46],\n",
       " [73, 66, 61, 46],\n",
       " [74, 66, 59, 47],\n",
       " [74, 66, 59, 47],\n",
       " [74, 66, 59, 47],\n",
       " [74, 66, 59, 47],\n",
       " [73, 67, 58, 52],\n",
       " [73, 67, 58, 52],\n",
       " [73, 67, 58, 52],\n",
       " [73, 67, 58, 52],\n",
       " [71, 66, 59, 50],\n",
       " [71, 66, 59, 50],\n",
       " [71, 66, 61, 49],\n",
       " [71, 66, 61, 49],\n",
       " [66, 66, 62, 47],\n",
       " [66, 66, 62, 47],\n",
       " [66, 66, 61, 45],\n",
       " [66, 66, 61, 45],\n",
       " [71, 66, 59, 44],\n",
       " [71, 66, 59, 44],\n",
       " [71, 66, 59, 44],\n",
       " [71, 66, 59, 44],\n",
       " [71, 65, 61, 49],\n",
       " [71, 65, 61, 49],\n",
       " [71, 65, 61, 49],\n",
       " [71, 65, 61, 49],\n",
       " [70, 66, 61, 42],\n",
       " [70, 66, 61, 42],\n",
       " [70, 66, 61, 42],\n",
       " [70, 66, 61, 42],\n",
       " [70, 66, 61, 42],\n",
       " [70, 66, 61, 42],\n",
       " [70, 66, 61, 42],\n",
       " [70, 66, 61, 42]]"
      ]
     },
     "execution_count": 6,
     "metadata": {},
     "output_type": "execute_result"
    }
   ],
   "source": [
    "random.choice(train)"
   ]
  },
  {
   "cell_type": "markdown",
   "metadata": {},
   "source": [
    "Let's check the distribution of the notes in a sample of train data"
   ]
  },
  {
   "cell_type": "code",
   "execution_count": 6,
   "metadata": {},
   "outputs": [
    {
     "data": {
      "image/png": "[encoded data removed]",
      "text/plain": [
       "<Figure size 640x480 with 1 Axes>"
      ]
     },
     "metadata": {},
     "output_type": "display_data"
    }
   ],
   "source": [
    "# Flatten the data\n",
    "train_data_flat = np.array(train[0]).flatten()\n",
    "\n",
    "# Create a histogram to visualize the data distribution\n",
    "plt.hist(train_data_flat, bins=30, edgecolor='k', alpha=0.7)\n",
    "plt.xlabel('notes')\n",
    "plt.ylabel('Frequency')\n",
    "plt.title(f\"Frequency of notes in training data\")\n",
    "\n",
    "# Show the plot\n",
    "plt.show()\n"
   ]
  },
  {
   "cell_type": "markdown",
   "metadata": {},
   "source": [
    "Check the min and the max notes across train, validation , and test data."
   ]
  },
  {
   "cell_type": "code",
   "execution_count": 7,
   "metadata": {},
   "outputs": [],
   "source": [
    "notes = set()\n",
    "for chorales in (train, validation, test):\n",
    "    for chorale in chorales:\n",
    "        for chord in chorale:\n",
    "            notes |= set(chord)\n",
    "\n",
    "n_notes = len(notes)\n",
    "min_note = min(notes - {0})\n",
    "max_note = max(notes)\n",
    "\n",
    "assert min_note == 36\n",
    "assert max_note == 81"
   ]
  },
  {
   "cell_type": "code",
   "execution_count": 8,
   "metadata": {},
   "outputs": [
    {
     "data": {
      "text/plain": [
       "47"
      ]
     },
     "execution_count": 8,
     "metadata": {},
     "output_type": "execute_result"
    }
   ],
   "source": [
    "n_notes "
   ]
  },
  {
   "cell_type": "markdown",
   "metadata": {},
   "source": [
    "The notes cover a span from 36 (representing C1, which is the C note in the first octave) to 81 (indicating A5, which is the A note in the fifth octave), with an additional value of 0 to denote silence."
   ]
  },
  {
   "cell_type": "code",
   "execution_count": 9,
   "metadata": {},
   "outputs": [],
   "source": [
    "#Thanks for the code from https://stackoverflow.com/questions/63974543/how-can-i-play-music-represented-as-chords-in-a-csv-file-with-python\n",
    "\n",
    "from IPython.display import Audio\n",
    "\n",
    "def notes_to_frequencies(notes):\n",
    "    # Frequency doubles when you go up one octave; there are 12 semi-tones\n",
    "    # per octave; Note A on octave 4 is 440 Hz, and it is note number 69.\n",
    "    return 2 ** ((np.array(notes) - 69) / 12) * 440\n",
    "\n",
    "def frequencies_to_samples(frequencies, tempo, sample_rate):\n",
    "    note_duration = 60 / tempo # the tempo is measured in beats per minutes\n",
    "    # To reduce click sound at every beat, we round the frequencies to try to\n",
    "    # get the samples close to zero at the end of each note.\n",
    "    frequencies = (note_duration * frequencies).round() / note_duration\n",
    "    n_samples = int(note_duration * sample_rate)\n",
    "    time = np.linspace(0, note_duration, n_samples)\n",
    "    sine_waves = np.sin(2 * np.pi * frequencies.reshape(-1, 1) * time)\n",
    "    # Removing all notes with frequencies ≤ 9 Hz (includes note 0 = silence)\n",
    "    sine_waves *= (frequencies > 9.).reshape(-1, 1)\n",
    "    return sine_waves.reshape(-1)\n",
    "\n",
    "def chords_to_samples(chords, tempo, sample_rate):\n",
    "    freqs = notes_to_frequencies(chords)\n",
    "    freqs = np.r_[freqs, freqs[-1:]] # make last note a bit longer\n",
    "    merged = np.mean([frequencies_to_samples(melody, tempo, sample_rate)\n",
    "                     for melody in freqs.T], axis=0)\n",
    "    n_fade_out_samples = sample_rate * 60 // tempo # fade out last note\n",
    "    fade_out = np.linspace(1., 0., n_fade_out_samples)**2\n",
    "    merged[-n_fade_out_samples:] *= fade_out\n",
    "    return merged\n",
    "\n",
    "def play_chords(chords, tempo=160, amplitude=0.1, sample_rate=44100, filepath=None):\n",
    "    samples = amplitude * chords_to_samples(chords, tempo, sample_rate)\n",
    "    if filepath:\n",
    "        from scipy.io import wavfile\n",
    "        samples = (2**15 * samples).astype(np.int16)\n",
    "        wavfile.write(filepath, sample_rate, samples)\n",
    "        return display(Audio(filepath))\n",
    "    else:\n",
    "        return display(Audio(samples, rate=sample_rate))"
   ]
  },
  {
   "cell_type": "code",
   "execution_count": null,
   "metadata": {},
   "outputs": [],
   "source": [
    "for index in range(5):\n",
    "    play_chords(train[index])"
   ]
  },
  {
   "cell_type": "markdown",
   "metadata": {},
   "source": [
    "## Data Preparation"
   ]
  },
  {
   "cell_type": "markdown",
   "metadata": {},
   "source": [
    "To enable the generation of new chorales, I aim to train a model capable of predicting the next note by considering the previous notes. Instead of predicting all four notes in a chord simultaneously, which can lead to dissonance, it's more effective to predict one note at a time. Consequently, I need to preprocess each chorale, transforming  each chorale into a long sequence of notes instead of chords. The training approach will involve a sequence-to-sequence model, where I provide a window of notes to the neural network, and it endeavors to forecast that same window shifted forward by one time step.\n",
    "\n",
    "I will also adjust the note values within a range of 0 to 46, with 0 signifying silence, and values 1 to 46 corresponding to notes from C1 (36) to A5 (81).\n",
    "\n",
    "The training process will employ windows of 128 notes, which is equivalent to 32 chords."
   ]
  },
  {
   "cell_type": "code",
   "execution_count": 11,
   "metadata": {},
   "outputs": [],
   "source": [
    "def create_target(batch):\n",
    "    X = batch[:, :-1]\n",
    "    Y = batch[:, 1:] # predict next note in each arpegio, at each step\n",
    "    return X, Y\n",
    "\n",
    "def preprocess(window):\n",
    "    window = tf.where(window == 0, window, window - min_note + 1) # shift values within a range of 0 to 46\n",
    "    return tf.reshape(window, [-1]) # convert into a long sequence of notes\n",
    "\n",
    "def bach_dataset(chorales, batch_size=32, shuffle_buffer_size=None,\n",
    "                 window_size=32, window_shift=16, cache=True):\n",
    "    def batch_window(window):\n",
    "        return window.batch(window_size + 1)\n",
    "\n",
    "    def to_windows(chorale):\n",
    "        dataset = tf.data.Dataset.from_tensor_slices(chorale)\n",
    "        dataset = dataset.window(window_size + 1, window_shift, drop_remainder=True)\n",
    "        return dataset.flat_map(batch_window)\n",
    "\n",
    "    chorales = tf.ragged.constant(chorales, ragged_rank=1)\n",
    "    dataset = tf.data.Dataset.from_tensor_slices(chorales)\n",
    "    dataset = dataset.flat_map(to_windows).map(preprocess)\n",
    "    if cache:\n",
    "        dataset = dataset.cache()\n",
    "    if shuffle_buffer_size:\n",
    "        dataset = dataset.shuffle(shuffle_buffer_size)\n",
    "    dataset = dataset.batch(batch_size)\n",
    "    dataset = dataset.map(create_target)\n",
    "    return dataset.prefetch(1)"
   ]
  },
  {
   "cell_type": "code",
   "execution_count": 12,
   "metadata": {},
   "outputs": [],
   "source": [
    "train = bach_dataset(train, shuffle_buffer_size=1000)\n",
    "validation = bach_dataset(validation)\n",
    "test = bach_dataset(test)"
   ]
  },
  {
   "cell_type": "markdown",
   "metadata": {},
   "source": [
    "## Modeling"
   ]
  },
  {
   "cell_type": "markdown",
   "metadata": {},
   "source": [
    "To provide the model with note values, utilizing floating-point numbers directly might not yield optimal results. The relationships between notes are intricate; for instance, replacing a C3 with a C4 can still sound harmonious, despite the 12 semitones (one octave) difference. On the other hand, substituting a C3 with a C#3 often results in a discordant chord, even though these notes are adjacent on the piano.\n",
    "\n",
    "To address this complexity, I will employ an Embedding layer in each model to convert each note into a compact vector representation. These embeddings will be five-dimensional, and the output of this initial layer will have a shape of [batch_size, window_size, 5]."
   ]
  },
  {
   "cell_type": "code",
   "execution_count": 13,
   "metadata": {},
   "outputs": [],
   "source": [
    "embedding_dimensions = 5"
   ]
  },
  {
   "cell_type": "markdown",
   "metadata": {},
   "source": [
    "### LSTM"
   ]
  },
  {
   "cell_type": "code",
   "execution_count": 14,
   "metadata": {},
   "outputs": [
    {
     "name": "stdout",
     "output_type": "stream",
     "text": [
      "Model: \"sequential\"\n",
      "_________________________________________________________________\n",
      " Layer (type)                Output Shape              Param #   \n",
      "=================================================================\n",
      " embedding (Embedding)       (None, None, 5)           235       \n",
      "                                                                 \n",
      " lstm (LSTM)                 (None, None, 128)         68608     \n",
      "                                                                 \n",
      " lstm_1 (LSTM)               (None, None, 128)         131584    \n",
      "                                                                 \n",
      " dense (Dense)               (None, None, 256)         33024     \n",
      "                                                                 \n",
      " dense_1 (Dense)             (None, None, 47)          12079     \n",
      "                                                                 \n",
      "=================================================================\n",
      "Total params: 245,530\n",
      "Trainable params: 245,530\n",
      "Non-trainable params: 0\n",
      "_________________________________________________________________\n"
     ]
    }
   ],
   "source": [
    "\n",
    "lstm_model = tf.keras.Sequential([\n",
    "    tf.keras.layers.Embedding(input_dim=n_notes, output_dim=embedding_dimensions,\n",
    "                           input_shape=[None]),\n",
    "    tf.keras.layers.LSTM(128, return_sequences=True),\n",
    "    tf.keras.layers.LSTM(128, return_sequences=True),\n",
    "    tf.keras.layers.Dense(256, activation=\"relu\"),\n",
    "    tf.keras.layers.Dense(n_notes, activation=\"softmax\")\n",
    "])\n",
    "\n",
    "lstm_model.summary()"
   ]
  },
  {
   "cell_type": "code",
   "execution_count": 15,
   "metadata": {},
   "outputs": [
    {
     "name": "stdout",
     "output_type": "stream",
     "text": [
      "Epoch 1/20\n",
      "131/131 [==============================] - 18s 123ms/step - loss: 3.3842 - accuracy: 0.0799 - val_loss: 3.2104 - val_accuracy: 0.0960\n",
      "Epoch 2/20\n",
      "131/131 [==============================] - 15s 115ms/step - loss: 3.1044 - accuracy: 0.1195 - val_loss: 2.9756 - val_accuracy: 0.1429\n",
      "Epoch 3/20\n",
      "131/131 [==============================] - 15s 116ms/step - loss: 2.8235 - accuracy: 0.1732 - val_loss: 2.5851 - val_accuracy: 0.2537\n",
      "Epoch 4/20\n",
      "131/131 [==============================] - 15s 116ms/step - loss: 1.9463 - accuracy: 0.4388 - val_loss: 1.5272 - val_accuracy: 0.5604\n",
      "Epoch 5/20\n",
      "131/131 [==============================] - 15s 116ms/step - loss: 1.3942 - accuracy: 0.6002 - val_loss: 1.2842 - val_accuracy: 0.6328\n",
      "Epoch 6/20\n",
      "131/131 [==============================] - 15s 116ms/step - loss: 1.1895 - accuracy: 0.6605 - val_loss: 1.1221 - val_accuracy: 0.6846\n",
      "Epoch 7/20\n",
      "131/131 [==============================] - 15s 115ms/step - loss: 1.0495 - accuracy: 0.7013 - val_loss: 1.0085 - val_accuracy: 0.7162\n",
      "Epoch 8/20\n",
      "131/131 [==============================] - 15s 115ms/step - loss: 0.9496 - accuracy: 0.7283 - val_loss: 0.9400 - val_accuracy: 0.7345\n",
      "Epoch 9/20\n",
      "131/131 [==============================] - 15s 115ms/step - loss: 0.8680 - accuracy: 0.7493 - val_loss: 0.8519 - val_accuracy: 0.7565\n",
      "Epoch 10/20\n",
      "131/131 [==============================] - 15s 115ms/step - loss: 0.7860 - accuracy: 0.7700 - val_loss: 0.7841 - val_accuracy: 0.7723\n",
      "Epoch 11/20\n",
      "131/131 [==============================] - 15s 116ms/step - loss: 0.7191 - accuracy: 0.7872 - val_loss: 0.7350 - val_accuracy: 0.7841\n",
      "Epoch 12/20\n",
      "131/131 [==============================] - 15s 117ms/step - loss: 0.6714 - accuracy: 0.7991 - val_loss: 0.6983 - val_accuracy: 0.7940\n",
      "Epoch 13/20\n",
      "131/131 [==============================] - 15s 115ms/step - loss: 0.6358 - accuracy: 0.8088 - val_loss: 0.6731 - val_accuracy: 0.8009\n",
      "Epoch 14/20\n",
      "131/131 [==============================] - 16s 120ms/step - loss: 0.6074 - accuracy: 0.8162 - val_loss: 0.6511 - val_accuracy: 0.8062\n",
      "Epoch 15/20\n",
      "131/131 [==============================] - 15s 117ms/step - loss: 0.5850 - accuracy: 0.8223 - val_loss: 0.6334 - val_accuracy: 0.8112\n",
      "Epoch 16/20\n",
      "131/131 [==============================] - 16s 119ms/step - loss: 0.5637 - accuracy: 0.8280 - val_loss: 0.6176 - val_accuracy: 0.8161\n",
      "Epoch 17/20\n",
      "131/131 [==============================] - 15s 117ms/step - loss: 0.5457 - accuracy: 0.8327 - val_loss: 0.6041 - val_accuracy: 0.8198\n",
      "Epoch 18/20\n",
      "131/131 [==============================] - 16s 121ms/step - loss: 0.5302 - accuracy: 0.8368 - val_loss: 0.5987 - val_accuracy: 0.8211\n",
      "Epoch 19/20\n",
      "131/131 [==============================] - 16s 119ms/step - loss: 0.5165 - accuracy: 0.8405 - val_loss: 0.5878 - val_accuracy: 0.8242\n",
      "Epoch 20/20\n",
      "131/131 [==============================] - 16s 119ms/step - loss: 0.5044 - accuracy: 0.8440 - val_loss: 0.5879 - val_accuracy: 0.8230\n"
     ]
    },
    {
     "data": {
      "text/plain": [
       "<keras.callbacks.History at 0x2cb28aaf690>"
      ]
     },
     "execution_count": 15,
     "metadata": {},
     "output_type": "execute_result"
    }
   ],
   "source": [
    "optimizer = tf.keras.optimizers.Nadam(learning_rate=1e-3)\n",
    "lstm_model.compile(loss=\"sparse_categorical_crossentropy\", optimizer=optimizer,\n",
    "              metrics=[\"accuracy\"])\n",
    "lstm_model.fit(train, epochs=20, validation_data=validation)"
   ]
  },
  {
   "cell_type": "markdown",
   "metadata": {},
   "source": [
    "### WaveNet"
   ]
  },
  {
   "cell_type": "markdown",
   "metadata": {},
   "source": [
    "The neural network architecture will resemble a scaled-down version of WaveNet, consisting of a sequence of four Conv1D layers with increasing dilation rates. BatchNormalization layers will be inserted between these convolutional layers to enhance training convergence. Following this, there will be one LSTM layer to capture longer-term patterns, and a Dense layer to generate the ultimate note probabilities. Each probability will correspond to an individual chorale in the batch, for each time step, and for every potential note, including silence. Consequently, the output shape will be [batch_size, window_size, 47]."
   ]
  },
  {
   "cell_type": "code",
   "execution_count": 16,
   "metadata": {},
   "outputs": [
    {
     "name": "stdout",
     "output_type": "stream",
     "text": [
      "Model: \"sequential\"\n",
      "_________________________________________________________________\n",
      " Layer (type)                Output Shape              Param #   \n",
      "=================================================================\n",
      " embedding (Embedding)       (None, None, 5)           235       \n",
      "                                                                 \n",
      " conv1d (Conv1D)             (None, None, 64)          704       \n",
      "                                                                 \n",
      " batch_normalization (BatchN  (None, None, 64)         256       \n",
      " ormalization)                                                   \n",
      "                                                                 \n",
      " conv1d_1 (Conv1D)           (None, None, 128)         16512     \n",
      "                                                                 \n",
      " batch_normalization_1 (Batc  (None, None, 128)        512       \n",
      " hNormalization)                                                 \n",
      "                                                                 \n",
      " conv1d_2 (Conv1D)           (None, None, 256)         65792     \n",
      "                                                                 \n",
      " batch_normalization_2 (Batc  (None, None, 256)        1024      \n",
      " hNormalization)                                                 \n",
      "                                                                 \n",
      " conv1d_3 (Conv1D)           (None, None, 512)         262656    \n",
      "                                                                 \n",
      " batch_normalization_3 (Batc  (None, None, 512)        2048      \n",
      " hNormalization)                                                 \n",
      "                                                                 \n",
      " lstm (LSTM)                 (None, None, 256)         787456    \n",
      "                                                                 \n",
      " dense (Dense)               (None, None, 47)          12079     \n",
      "                                                                 \n",
      "=================================================================\n",
      "Total params: 1,149,274\n",
      "Trainable params: 1,147,354\n",
      "Non-trainable params: 1,920\n",
      "_________________________________________________________________\n"
     ]
    }
   ],
   "source": [
    "import keras.backend as K\n",
    "K.clear_session()\n",
    "\n",
    "\n",
    "wavenet_model = tf.keras.Sequential([\n",
    "    tf.keras.layers.Embedding(input_dim=n_notes, output_dim=embedding_dimensions,\n",
    "                           input_shape=[None]),\n",
    "    tf.keras.layers.Conv1D(64, kernel_size=2, padding=\"causal\", activation=\"relu\"),\n",
    "    tf.keras.layers.BatchNormalization(),\n",
    "\n",
    "    \n",
    "    tf.keras.layers.Conv1D(128, kernel_size=2, padding=\"causal\", activation=\"relu\",dilation_rate=2),\n",
    "    tf.keras.layers.BatchNormalization(),\n",
    "\n",
    "    \n",
    "    tf.keras.layers.Conv1D(256, kernel_size=2, padding=\"causal\", activation=\"relu\",dilation_rate=4),\n",
    "    tf.keras.layers.BatchNormalization(),\n",
    " \n",
    "    tf.keras.layers.Conv1D(512, kernel_size=2, padding=\"causal\", activation=\"relu\",dilation_rate=8),\n",
    "    tf.keras.layers.BatchNormalization(),\n",
    " \n",
    "    \n",
    "    tf.keras.layers.LSTM(256, return_sequences=True),\n",
    "    tf.keras.layers.Dense(n_notes, activation=\"softmax\")\n",
    "])\n",
    "\n",
    "wavenet_model.summary()\n"
   ]
  },
  {
   "cell_type": "code",
   "execution_count": 17,
   "metadata": {},
   "outputs": [
    {
     "name": "stdout",
     "output_type": "stream",
     "text": [
      "Epoch 1/20\n"
     ]
    },
    {
     "name": "stdout",
     "output_type": "stream",
     "text": [
      "131/131 [==============================] - 66s 482ms/step - loss: 1.1441 - accuracy: 0.7082 - val_loss: 3.7478 - val_accuracy: 0.0786\n",
      "Epoch 2/20\n",
      "131/131 [==============================] - 64s 492ms/step - loss: 0.5891 - accuracy: 0.8280 - val_loss: 3.7355 - val_accuracy: 0.0948\n",
      "Epoch 3/20\n",
      "131/131 [==============================] - 66s 504ms/step - loss: 0.4886 - accuracy: 0.8530 - val_loss: 3.0460 - val_accuracy: 0.2215\n",
      "Epoch 4/20\n",
      "131/131 [==============================] - 63s 484ms/step - loss: 0.4230 - accuracy: 0.8709 - val_loss: 1.5807 - val_accuracy: 0.5327\n",
      "Epoch 5/20\n",
      "131/131 [==============================] - 61s 464ms/step - loss: 0.3672 - accuracy: 0.8872 - val_loss: 0.6891 - val_accuracy: 0.8035\n",
      "Epoch 6/20\n",
      "131/131 [==============================] - 61s 464ms/step - loss: 0.3224 - accuracy: 0.9007 - val_loss: 0.5797 - val_accuracy: 0.8338\n",
      "Epoch 7/20\n",
      "131/131 [==============================] - 61s 465ms/step - loss: 0.2862 - accuracy: 0.9111 - val_loss: 0.5928 - val_accuracy: 0.8318\n",
      "Epoch 8/20\n",
      "131/131 [==============================] - 64s 485ms/step - loss: 0.2557 - accuracy: 0.9207 - val_loss: 0.5994 - val_accuracy: 0.8323\n",
      "Epoch 9/20\n",
      "131/131 [==============================] - 62s 473ms/step - loss: 0.2330 - accuracy: 0.9278 - val_loss: 0.6163 - val_accuracy: 0.8307\n",
      "Epoch 10/20\n",
      "131/131 [==============================] - 66s 505ms/step - loss: 0.2123 - accuracy: 0.9341 - val_loss: 0.6320 - val_accuracy: 0.8287\n",
      "Epoch 11/20\n",
      "131/131 [==============================] - 66s 501ms/step - loss: 0.1963 - accuracy: 0.9388 - val_loss: 0.6458 - val_accuracy: 0.8263\n",
      "Epoch 12/20\n",
      "131/131 [==============================] - 70s 531ms/step - loss: 0.1808 - accuracy: 0.9436 - val_loss: 0.6638 - val_accuracy: 0.8269\n",
      "Epoch 13/20\n",
      "131/131 [==============================] - 69s 530ms/step - loss: 0.1716 - accuracy: 0.9465 - val_loss: 0.6724 - val_accuracy: 0.8269\n",
      "Epoch 14/20\n",
      "131/131 [==============================] - 68s 521ms/step - loss: 0.1633 - accuracy: 0.9488 - val_loss: 0.6797 - val_accuracy: 0.8268\n",
      "Epoch 15/20\n",
      "131/131 [==============================] - 71s 538ms/step - loss: 0.1554 - accuracy: 0.9513 - val_loss: 0.6984 - val_accuracy: 0.8262\n",
      "Epoch 16/20\n",
      "131/131 [==============================] - 69s 530ms/step - loss: 0.1506 - accuracy: 0.9523 - val_loss: 0.7118 - val_accuracy: 0.8236\n",
      "Epoch 17/20\n",
      "131/131 [==============================] - 70s 534ms/step - loss: 0.1451 - accuracy: 0.9539 - val_loss: 0.7136 - val_accuracy: 0.8263\n",
      "Epoch 18/20\n",
      "131/131 [==============================] - 61s 466ms/step - loss: 0.1415 - accuracy: 0.9547 - val_loss: 0.7331 - val_accuracy: 0.8243\n",
      "Epoch 19/20\n",
      "131/131 [==============================] - 60s 459ms/step - loss: 0.1379 - accuracy: 0.9561 - val_loss: 0.7355 - val_accuracy: 0.8227\n",
      "Epoch 20/20\n",
      "131/131 [==============================] - 61s 466ms/step - loss: 0.1335 - accuracy: 0.9571 - val_loss: 0.7518 - val_accuracy: 0.8232\n"
     ]
    },
    {
     "data": {
      "text/plain": [
       "<keras.callbacks.History at 0x2cb32ccb110>"
      ]
     },
     "execution_count": 17,
     "metadata": {},
     "output_type": "execute_result"
    }
   ],
   "source": [
    "optimizer = tf.keras.optimizers.Nadam(learning_rate=1e-3)\n",
    "wavenet_model.compile(loss=\"sparse_categorical_crossentropy\", optimizer=optimizer,\n",
    "              metrics=[\"accuracy\"])\n",
    "wavenet_model.fit(train, epochs=20, validation_data=validation)"
   ]
  },
  {
   "cell_type": "markdown",
   "metadata": {},
   "source": [
    "(I will not fine-tuning because the purpose of this notebook is to pratice the end to end pipeline of the sequence model. )"
   ]
  },
  {
   "cell_type": "markdown",
   "metadata": {},
   "source": [
    "---"
   ]
  },
  {
   "cell_type": "markdown",
   "metadata": {},
   "source": [
    "## Generate New Chorale"
   ]
  },
  {
   "cell_type": "markdown",
   "metadata": {},
   "source": [
    "Create a function that generates a novel chorale. I'll input a set of initial chords, transform them into a sequence (as required by the model), and employ the model to forecast the following note in a sequential fashion. Subsequently, I'll group the notes in sets of four to recreate chords and then return the resulting chorale. However, using the model directly presents a risk-averse behavior, as it invariably selects the note with the highest score. Typically, this results in an over-repetition of the previous note, leading to a rather uninteresting musical output. To add more variety, I'll opt for a randomized approach. Instead of always favoring the highest-scoring note, I will make the next note selection based on the predicted probabilities. For instance, if the model suggests a C3 with a 75% probability and a G3 with a 25% probability, it will choose one of these notes randomly, with their respective probabilities considered in the selection process. I'll add a rate parameter. A high rate will bring the predicted probabilities closer together, reducing the probability of the likely notes and increasing the probability of the unlikely ones."
   ]
  },
  {
   "cell_type": "code",
   "execution_count": 26,
   "metadata": {},
   "outputs": [],
   "source": [
    "\n",
    "def my_chorale(model, initial_chords, length, rate=1):\n",
    "    sequence_notes = preprocess(tf.constant(initial_chords, dtype=tf.int64))\n",
    "    sequence_notes = tf.reshape(sequence_notes, [1, -1])\n",
    "    for chord in range(length):\n",
    "        for note in range(4):\n",
    "            next_note_probas = model.predict(sequence_notes)[0, -1:]\n",
    "            rescaled_logits = tf.math.log(next_note_probas) / rate\n",
    "            next_note = tf.random.categorical(rescaled_logits, num_samples=1)\n",
    "            sequence_notes = tf.concat([sequence_notes, next_note], axis=1)\n",
    "    sequence_notes = tf.where(sequence_notes == 0, sequence_notes, sequence_notes + min_note - 1)\n",
    "    return tf.reshape(sequence_notes, shape=[-1, 4])"
   ]
  },
  {
   "cell_type": "markdown",
   "metadata": {},
   "source": [
    "Utilize the initial 8 chords from one of the test chorales, which essentially consists of two distinct chords, each played four times."
   ]
  },
  {
   "cell_type": "code",
   "execution_count": 27,
   "metadata": {},
   "outputs": [],
   "source": [
    "test_files = sorted(path.glob(\"test/chorale_*.csv\"))\n",
    "test_chorales = load_data(test_files)"
   ]
  },
  {
   "cell_type": "code",
   "execution_count": null,
   "metadata": {},
   "outputs": [],
   "source": [
    "initial_chords = test_chorales[2][:8]\n",
    "play_chords(initial_chords, amplitude=0.2)"
   ]
  },
  {
   "cell_type": "code",
   "execution_count": null,
   "metadata": {},
   "outputs": [],
   "source": [
    "new_chorale1 = my_chorale(wavenet_model, initial_chords, 56, 0.8)\n",
    "play_chords(new_chorale1)"
   ]
  },
  {
   "cell_type": "code",
   "execution_count": null,
   "metadata": {},
   "outputs": [],
   "source": [
    "new_chorale2 = my_chorale(wavenet_model, initial_chords, 56, 1.5)\n",
    "play_chords(new_chorale2)"
   ]
  },
  {
   "cell_type": "code",
   "execution_count": null,
   "metadata": {},
   "outputs": [],
   "source": [
    "play_chords(test_chorales[2][:64], filepath=\"original_chorale.wav\")"
   ]
  },
  {
   "cell_type": "code",
   "execution_count": null,
   "metadata": {},
   "outputs": [],
   "source": [
    "play_chords(new_chorale2, filepath=\"new_chorale_.wav\")\n"
   ]
  }
 ],
 "metadata": {
  "kernelspec": {
   "display_name": "Python 3",
   "language": "python",
   "name": "python3"
  },
  "language_info": {
   "codemirror_mode": {
    "name": "ipython",
    "version": 3
   },
   "file_extension": ".py",
   "mimetype": "text/x-python",
   "name": "python",
   "nbconvert_exporter": "python",
   "pygments_lexer": "ipython3",
   "version": "3.11.4"
  }
 },
 "nbformat": 4,
 "nbformat_minor": 2
}
